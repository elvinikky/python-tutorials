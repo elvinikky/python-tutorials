{
 "cells": [
  {
   "cell_type": "markdown",
   "id": "bf2f03fa-169d-4a7c-b0ee-4b356d60471a",
   "metadata": {},
   "source": [
    "## data structures"
   ]
  },
  {
   "cell_type": "markdown",
   "id": "48ffd1b2-ea47-44ca-bd41-60c8d9083bc7",
   "metadata": {},
   "source": [
    "- list\n",
    "- dictionary\n",
    "- tuple\n",
    "- set "
   ]
  },
  {
   "cell_type": "markdown",
   "id": "edcc59da-dd8f-4478-a6cf-ae3abd33fc2b",
   "metadata": {},
   "source": [
    "#### a list is declared using the square bracket []"
   ]
  },
  {
   "cell_type": "code",
   "execution_count": 4,
   "id": "4510198b-379e-484a-96fb-4692f250af59",
   "metadata": {},
   "outputs": [
    {
     "data": {
      "text/plain": [
       "list"
      ]
     },
     "execution_count": 4,
     "metadata": {},
     "output_type": "execute_result"
    }
   ],
   "source": [
    "a = [2,'boys',2.4,True]\n",
    "type(a)"
   ]
  },
  {
   "cell_type": "markdown",
   "id": "76aa5732-3e01-4eee-8f16-3727311e5172",
   "metadata": {},
   "source": [
    "#### a dictionary is declared using the curly brackets {}"
   ]
  },
  {
   "cell_type": "code",
   "execution_count": 13,
   "id": "29f9f285-6bea-4a27-a7aa-4d01662f0600",
   "metadata": {},
   "outputs": [
    {
     "data": {
      "text/plain": [
       "dict"
      ]
     },
     "execution_count": 13,
     "metadata": {},
     "output_type": "execute_result"
    }
   ],
   "source": [
    "elvi = {2:'boys','elvin':2.4}\n",
    "type(elvi)\n",
    "# 2 and elvin in the dictionary arec called keys while boys and 2.4 are called values"
   ]
  },
  {
   "cell_type": "markdown",
   "id": "96f8f3a0-03e1-428d-af12-10fbe91e9b9a",
   "metadata": {},
   "source": [
    "#### a tuple is declared using a normal bracket ()"
   ]
  },
  {
   "cell_type": "code",
   "execution_count": 8,
   "id": "8c475be9-6be1-49f0-98a0-67ba4f7779c1",
   "metadata": {},
   "outputs": [
    {
     "data": {
      "text/plain": [
       "tuple"
      ]
     },
     "execution_count": 8,
     "metadata": {},
     "output_type": "execute_result"
    }
   ],
   "source": [
    "b = ('boy',2,2.4, True)\n",
    "type(b)"
   ]
  },
  {
   "cell_type": "markdown",
   "id": "61b8e2dd-d2c0-4d31-b798-60870fb89f21",
   "metadata": {},
   "source": [
    "#### tuple can be converted to list or set and vice versa"
   ]
  },
  {
   "cell_type": "code",
   "execution_count": 12,
   "id": "35258189-d2e2-46be-aba0-45038369adb1",
   "metadata": {},
   "outputs": [
    {
     "name": "stdout",
     "output_type": "stream",
     "text": [
      "<class 'list'> \n",
      " ['boy', 2, 2.4, True]\n",
      "<class 'list'>\n",
      "['boy', 2, 2.4, True]\n"
     ]
    }
   ],
   "source": [
    "c = list(b)\n",
    "print(type(c),\"\\n\",c)\n",
    "print(type(c))\n",
    "print(c)"
   ]
  },
  {
   "cell_type": "markdown",
   "id": "644be1e6-ce37-43a3-add1-c0dfc3fc1a48",
   "metadata": {},
   "source": [
    "#### a set is declared by curly bracket {} but don't have keys or values"
   ]
  },
  {
   "cell_type": "code",
   "execution_count": 19,
   "id": "a90420ae-525f-4d23-b53f-f16df133d309",
   "metadata": {},
   "outputs": [
    {
     "data": {
      "text/plain": [
       "{2, 2.4, False, 'boys'}"
      ]
     },
     "execution_count": 19,
     "metadata": {},
     "output_type": "execute_result"
    }
   ],
   "source": [
    "set1 = {2,2,2.4,'boys',False,False}\n",
    "set1"
   ]
  },
  {
   "cell_type": "code",
   "execution_count": 17,
   "id": "a2fac1a3-dd52-4408-abdd-cef1ff60f5ff",
   "metadata": {},
   "outputs": [
    {
     "ename": "TypeError",
     "evalue": "'set' object is not subscriptable",
     "output_type": "error",
     "traceback": [
      "\u001b[1;31m---------------------------------------------------------------------------\u001b[0m",
      "\u001b[1;31mTypeError\u001b[0m                                 Traceback (most recent call last)",
      "\u001b[1;32m<ipython-input-17-c38563f1af7a>\u001b[0m in \u001b[0;36m<module>\u001b[1;34m\u001b[0m\n\u001b[1;32m----> 1\u001b[1;33m \u001b[0mset1\u001b[0m\u001b[1;33m[\u001b[0m\u001b[1;36m0\u001b[0m\u001b[1;33m]\u001b[0m\u001b[1;33m\u001b[0m\u001b[1;33m\u001b[0m\u001b[0m\n\u001b[0m",
      "\u001b[1;31mTypeError\u001b[0m: 'set' object is not subscriptable"
     ]
    }
   ],
   "source": [
    "set1[0]"
   ]
  },
  {
   "cell_type": "markdown",
   "id": "6c7e2d1a-3471-4999-a2f7-2a0e54b44d7e",
   "metadata": {},
   "source": [
    "# xteristics of set\n",
    "- it doesn't accept duplicate\n",
    "- it doesn't accept indexing"
   ]
  }
 ],
 "metadata": {
  "kernelspec": {
   "display_name": "Python 3",
   "language": "python",
   "name": "python3"
  },
  "language_info": {
   "codemirror_mode": {
    "name": "ipython",
    "version": 3
   },
   "file_extension": ".py",
   "mimetype": "text/x-python",
   "name": "python",
   "nbconvert_exporter": "python",
   "pygments_lexer": "ipython3",
   "version": "3.8.8"
  }
 },
 "nbformat": 4,
 "nbformat_minor": 5
}
