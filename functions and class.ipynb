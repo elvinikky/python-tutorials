{
 "cells": [
  {
   "cell_type": "markdown",
   "id": "083cc865-312f-4737-a507-3420afe980c8",
   "metadata": {},
   "source": [
    "##### a function is declared by calling *def*  first before the name of the function"
   ]
  },
  {
   "cell_type": "code",
   "execution_count": 1,
   "id": "0f4516e4-dea9-4ecf-bccd-a8505c334841",
   "metadata": {},
   "outputs": [
    {
     "data": {
      "text/plain": [
       "7"
      ]
     },
     "execution_count": 1,
     "metadata": {},
     "output_type": "execute_result"
    }
   ],
   "source": [
    "def maths():\n",
    "    a =4\n",
    "    b =3\n",
    "    return a + b\n",
    "\n",
    "maths()"
   ]
  },
  {
   "cell_type": "markdown",
   "id": "27d503cd-111e-4d49-bf77-dbffb8ee9335",
   "metadata": {},
   "source": [
    "##### to make a function dynamic, you add parameters to the function e.g maths(a,b)"
   ]
  },
  {
   "cell_type": "code",
   "execution_count": 2,
   "id": "aa23b78c-0d8f-499d-ad47-659bda9767e2",
   "metadata": {},
   "outputs": [],
   "source": [
    "def add_(a,b):\n",
    "    a + b\n",
    "    print(a+b)"
   ]
  },
  {
   "cell_type": "code",
   "execution_count": 3,
   "id": "bae3060c-3d49-42a2-a334-0556e12522d1",
   "metadata": {},
   "outputs": [
    {
     "name": "stdout",
     "output_type": "stream",
     "text": [
      "19\n"
     ]
    }
   ],
   "source": [
    "add_(10,9)"
   ]
  },
  {
   "cell_type": "code",
   "execution_count": 4,
   "id": "51533499-069a-46d6-8177-20c3922e55fd",
   "metadata": {},
   "outputs": [
    {
     "name": "stdout",
     "output_type": "stream",
     "text": [
      "1020.1\n"
     ]
    }
   ],
   "source": [
    "add_(20,1000.1)"
   ]
  },
  {
   "cell_type": "code",
   "execution_count": 5,
   "id": "839980c3-a6d6-4d3c-822b-2cb8dceead3e",
   "metadata": {},
   "outputs": [],
   "source": [
    "def div(elvi,nikky,a,c):\n",
    "    d = elvi/nikky\n",
    "    e = a/c\n",
    "    b = d/e\n",
    "    return b"
   ]
  },
  {
   "cell_type": "code",
   "execution_count": 6,
   "id": "df04e3de-fb6f-4c01-aa42-fcc2f335de23",
   "metadata": {},
   "outputs": [
    {
     "data": {
      "text/plain": [
       "1.0"
      ]
     },
     "execution_count": 6,
     "metadata": {},
     "output_type": "execute_result"
    }
   ],
   "source": [
    "div(10,2,20,4)"
   ]
  },
  {
   "cell_type": "code",
   "execution_count": 8,
   "id": "8f26b45f-f386-41dc-9681-7b6c19b99315",
   "metadata": {},
   "outputs": [],
   "source": [
    "class liu:\n",
    "    def div(elvi,nikky,a,c):\n",
    "        d = elvi/nikky\n",
    "        e = a/c\n",
    "        b = d/e\n",
    "        return b\n",
    "    \n",
    "    def add_(a,b):\n",
    "        a + b\n",
    "        print(a+b)\n"
   ]
  },
  {
   "cell_type": "code",
   "execution_count": null,
   "id": "ed74ebc7-e780-488a-a870-d63b2b3e7b9e",
   "metadata": {},
   "outputs": [],
   "source": [
    "liu.div(10,2,20,4)"
   ]
  },
  {
   "cell_type": "code",
   "execution_count": null,
   "id": "e359539d-24af-4149-91dc-536699fe3456",
   "metadata": {},
   "outputs": [],
   "source": [
    "liu.add_(20,5)"
   ]
  },
  {
   "cell_type": "code",
   "execution_count": null,
   "id": "58a0841c-7aca-42ee-a41c-8b8858284386",
   "metadata": {},
   "outputs": [],
   "source": []
  }
 ],
 "metadata": {
  "kernelspec": {
   "display_name": "Python 3",
   "language": "python",
   "name": "python3"
  },
  "language_info": {
   "codemirror_mode": {
    "name": "ipython",
    "version": 3
   },
   "file_extension": ".py",
   "mimetype": "text/x-python",
   "name": "python",
   "nbconvert_exporter": "python",
   "pygments_lexer": "ipython3",
   "version": "3.8.8"
  }
 },
 "nbformat": 4,
 "nbformat_minor": 5
}
