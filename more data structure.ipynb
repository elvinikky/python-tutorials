{
 "cells": [
  {
   "cell_type": "code",
   "execution_count": 1,
   "id": "d776e762-aa79-4e6a-a092-67e75ba75c95",
   "metadata": {},
   "outputs": [],
   "source": [
    "a = [2,'boys',2.4,True] # list\n",
    "elvi = {2:'boys','elvin':2.4} # dictionary\n",
    "b = ('boy',2,2.4, True) # tuple"
   ]
  },
  {
   "cell_type": "markdown",
   "id": "3efd580e-d287-4716-a407-380953d70354",
   "metadata": {},
   "source": [
    "#### to have access to the data inside the data structure, u use indexing"
   ]
  },
  {
   "cell_type": "code",
   "execution_count": 2,
   "id": "f4d95a5a-c326-412a-b069-4f411994c48e",
   "metadata": {},
   "outputs": [
    {
     "name": "stdout",
     "output_type": "stream",
     "text": [
      "2 , boys , 2.4 , True\n"
     ]
    }
   ],
   "source": [
    "print(a[0],\",\",a[1],\",\",a[2],\",\",a[3])"
   ]
  },
  {
   "cell_type": "code",
   "execution_count": 3,
   "id": "97ab76ed-28ed-4c6b-b83b-41b78bd500b7",
   "metadata": {},
   "outputs": [
    {
     "name": "stdout",
     "output_type": "stream",
     "text": [
      "boys , 2.4\n"
     ]
    }
   ],
   "source": [
    "print(elvi[2],',',elvi['elvin'])"
   ]
  },
  {
   "cell_type": "code",
   "execution_count": 4,
   "id": "e7170466-d6fb-48df-980b-88b318b7619d",
   "metadata": {},
   "outputs": [
    {
     "name": "stdout",
     "output_type": "stream",
     "text": [
      "boy 2 2.4 True\n"
     ]
    }
   ],
   "source": [
    "print(b[0],b[1],b[2],b[3])"
   ]
  },
  {
   "cell_type": "markdown",
   "id": "d9319b1e-7234-414f-97cd-0298908a26c0",
   "metadata": {},
   "source": [
    "## change the data inside data structures"
   ]
  },
  {
   "cell_type": "code",
   "execution_count": 5,
   "id": "49514410-9b6b-4ca8-8641-9c4030a5b696",
   "metadata": {},
   "outputs": [],
   "source": [
    "a = [2,'boys',2.4,True] # list\n",
    "elvi = {2:'boys','elvin':2.4} # dictionary\n",
    "b = ('boy',2,2.4, True) # tuple"
   ]
  },
  {
   "cell_type": "code",
   "execution_count": 6,
   "id": "af4c1ccf-e68c-457d-a6c7-95fce30c6011",
   "metadata": {},
   "outputs": [
    {
     "data": {
      "text/plain": [
       "[2, 'boys', 2.4, 'elvin']"
      ]
     },
     "execution_count": 6,
     "metadata": {},
     "output_type": "execute_result"
    }
   ],
   "source": [
    "a[3] = \"elvin\"\n",
    "a"
   ]
  },
  {
   "cell_type": "code",
   "execution_count": 7,
   "id": "6ebfbced-7338-4973-80c6-ad5d24feb292",
   "metadata": {},
   "outputs": [
    {
     "data": {
      "text/plain": [
       "{2: 60.5, 'elvin': 2.4}"
      ]
     },
     "execution_count": 7,
     "metadata": {},
     "output_type": "execute_result"
    }
   ],
   "source": [
    "elvi[2] = 60.5\n",
    "elvi"
   ]
  },
  {
   "cell_type": "markdown",
   "id": "2f7fc873-33e6-4c1f-9852-ee8081e29416",
   "metadata": {},
   "source": [
    "### adding data to data structure"
   ]
  },
  {
   "cell_type": "code",
   "execution_count": 8,
   "id": "5363820d-adb6-459d-8170-9902e1dc09c7",
   "metadata": {},
   "outputs": [
    {
     "data": {
      "text/plain": [
       "[2, 'boys', 2.4, 'elvin', 'string']"
      ]
     },
     "execution_count": 8,
     "metadata": {},
     "output_type": "execute_result"
    }
   ],
   "source": [
    "c = 'string'\n",
    "a.append(c)\n",
    "a"
   ]
  },
  {
   "cell_type": "code",
   "execution_count": 9,
   "id": "144d0010-1ab1-4dfc-8414-66ffb5446f57",
   "metadata": {},
   "outputs": [
    {
     "data": {
      "text/plain": [
       "'elvin'"
      ]
     },
     "execution_count": 9,
     "metadata": {},
     "output_type": "execute_result"
    }
   ],
   "source": [
    "a.pop(3)"
   ]
  },
  {
   "cell_type": "code",
   "execution_count": 10,
   "id": "d4a16527-090a-4990-83d1-eb2873d8ac34",
   "metadata": {},
   "outputs": [],
   "source": [
    "a.append(elvi)"
   ]
  },
  {
   "cell_type": "code",
   "execution_count": 11,
   "id": "4aea2bb0-f107-4efe-b3ad-dea230556c20",
   "metadata": {},
   "outputs": [
    {
     "data": {
      "text/plain": [
       "[2, 'boys', 2.4, 'string', {2: 60.5, 'elvin': 2.4}]"
      ]
     },
     "execution_count": 11,
     "metadata": {},
     "output_type": "execute_result"
    }
   ],
   "source": [
    "a"
   ]
  },
  {
   "cell_type": "code",
   "execution_count": 12,
   "id": "44d1240a-254f-4df1-8cf1-ca78bccdbb44",
   "metadata": {},
   "outputs": [
    {
     "data": {
      "text/plain": [
       "2.4"
      ]
     },
     "execution_count": 12,
     "metadata": {},
     "output_type": "execute_result"
    }
   ],
   "source": [
    "a[4]['elvin']"
   ]
  },
  {
   "cell_type": "code",
   "execution_count": 13,
   "id": "b0f0e45f-718c-4e84-af5a-2ae446f48f44",
   "metadata": {},
   "outputs": [
    {
     "data": {
      "text/plain": [
       "[2, 'boys', 2.4, 'string', {2: 60.5, 'elvin': 2.4}, ('boy', 2, 2.4, True)]"
      ]
     },
     "execution_count": 13,
     "metadata": {},
     "output_type": "execute_result"
    }
   ],
   "source": [
    "a.append(b)\n",
    "a"
   ]
  },
  {
   "cell_type": "code",
   "execution_count": 14,
   "id": "a37e4ce4-3ace-4d09-aa98-6ec4a5061aa9",
   "metadata": {},
   "outputs": [
    {
     "data": {
      "text/plain": [
       "'boy'"
      ]
     },
     "execution_count": 14,
     "metadata": {},
     "output_type": "execute_result"
    }
   ],
   "source": [
    "a[5][0]"
   ]
  },
  {
   "cell_type": "markdown",
   "id": "f1ba692c-ad2d-4da7-bebe-5fbce5b876c9",
   "metadata": {},
   "source": []
  },
  {
   "cell_type": "markdown",
   "id": "1b84cb40-b4e5-48c3-95f7-26f38943ecca",
   "metadata": {},
   "source": []
  }
 ],
 "metadata": {
  "kernelspec": {
   "display_name": "Python 3",
   "language": "python",
   "name": "python3"
  },
  "language_info": {
   "codemirror_mode": {
    "name": "ipython",
    "version": 3
   },
   "file_extension": ".py",
   "mimetype": "text/x-python",
   "name": "python",
   "nbconvert_exporter": "python",
   "pygments_lexer": "ipython3",
   "version": "3.8.8"
  }
 },
 "nbformat": 4,
 "nbformat_minor": 5
}
