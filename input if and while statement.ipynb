{
 "cells": [
  {
   "cell_type": "code",
   "execution_count": 1,
   "id": "a4e2a36f-755f-426e-bec4-6952a03e973f",
   "metadata": {},
   "outputs": [
    {
     "name": "stdin",
     "output_type": "stream",
     "text": [
      "Enter anything you want to type :  kk\n"
     ]
    },
    {
     "name": "stdout",
     "output_type": "stream",
     "text": [
      "hello  kk\n"
     ]
    }
   ],
   "source": [
    "a = input(\"Enter anything you want to type : \")\n",
    "# print(\"hello {}\".format(a))\n",
    "print('hello ',a)"
   ]
  },
  {
   "cell_type": "code",
   "execution_count": 2,
   "id": "d585eb19-7ae0-43fe-8ace-b7d9ecd6641f",
   "metadata": {},
   "outputs": [
    {
     "name": "stdout",
     "output_type": "stream",
     "text": [
      "['kk']\n"
     ]
    }
   ],
   "source": [
    "b = []\n",
    "b.append(a)\n",
    "print(b)"
   ]
  },
  {
   "cell_type": "code",
   "execution_count": 3,
   "id": "3210e767-aa35-4f2f-8b90-172215b78bbe",
   "metadata": {},
   "outputs": [
    {
     "name": "stdin",
     "output_type": "stream",
     "text": [
      "enter only numbers here:  89\n",
      "enter only numbers here:  9\n"
     ]
    },
    {
     "name": "stdout",
     "output_type": "stream",
     "text": [
      "the addition of the 2 numbers =  98.0\n",
      "the subtraction of the 2 numbers =  80.0\n"
     ]
    }
   ],
   "source": [
    "c = float(input(\"enter only numbers here: \"))\n",
    "d = float(input(\"enter only numbers here: \"))\n",
    "\n",
    "class maths:\n",
    "    def add_(c,d):\n",
    "        c + d\n",
    "#         print(c+d)\n",
    "        return c + d\n",
    "    def sub_(c,d):\n",
    "        c-d\n",
    "        return c-d\n",
    "\n",
    "add = maths.add_(c,d)\n",
    "subtract = maths.sub_(c,d)\n",
    "print('the addition of the 2 numbers = ', add)\n",
    "print('the subtraction of the 2 numbers = ', subtract )"
   ]
  },
  {
   "cell_type": "markdown",
   "id": "dd656df6-2bad-4ec3-abaf-df1844aa83f2",
   "metadata": {},
   "source": [
    "## statements \n",
    "- if statement"
   ]
  },
  {
   "cell_type": "code",
   "execution_count": 5,
   "id": "09151f2a-b3f7-4898-8dfb-5114cf221c56",
   "metadata": {},
   "outputs": [
    {
     "name": "stdin",
     "output_type": "stream",
     "text": [
      "a :  9\n",
      "b :  9\n"
     ]
    },
    {
     "name": "stdout",
     "output_type": "stream",
     "text": [
      "A is big\n",
      "B is bigger than A ohhhhhhh\n"
     ]
    }
   ],
   "source": [
    "a = int(input(\"a : \"))\n",
    "b =  int(input(\"b : \"))\n",
    "if a > 8:\n",
    "    print(\"A is big\")\n",
    "    if b < 10:\n",
    "        print('B is bigger than A ohhhhhhh')\n",
    "    else:\n",
    "        print(\"B is on its own\")\n",
    "elif b < 10:\n",
    "        print('B is bigger than A')\n",
    "else:\n",
    "    print(\"I dont know what to tell u\")"
   ]
  },
  {
   "cell_type": "code",
   "execution_count": 10,
   "id": "94e75c15-f15d-40d7-84d0-3566ee9a05d8",
   "metadata": {},
   "outputs": [
    {
     "name": "stdin",
     "output_type": "stream",
     "text": [
      "enter only 'add' or 'subtract' :  subtract\n",
      "enter 1st number to be subtracted:  90\n",
      "enter 2nd number to be subtracted:  12\n"
     ]
    },
    {
     "name": "stdout",
     "output_type": "stream",
     "text": [
      "the subtraction of the 2 numbers =  78.0\n"
     ]
    }
   ],
   "source": [
    "var = input(\"enter only 'add' or 'subtract' : \")\n",
    "\n",
    "class maths:\n",
    "    def add_(c,d):\n",
    "        c + d\n",
    "#         print(c+d)\n",
    "        return c + d\n",
    "    def sub_(c,d):\n",
    "        c-d\n",
    "        return c-d\n",
    "\n",
    "if var == 'add':\n",
    "    c = float(input(\"enter 1st number to be added: \"))\n",
    "    d = float(input(\"enter 2nd number to be added: \"))\n",
    "    maths.add_(c,d)\n",
    "    add = maths.add_(c,d)\n",
    "    print('the addition of the 2 numbers = ', add)\n",
    "\n",
    "\n",
    "elif var == 'subtract':\n",
    "    c = float(input(\"enter 1st number to be subtracted: \"))\n",
    "    d = float(input(\"enter 2nd number to be subtracted: \"))\n",
    "    maths.sub_(c,d)\n",
    "    subtract = maths.sub_(c,d)\n",
    "    print('the subtraction of the 2 numbers = ', subtract )\n",
    "else:\n",
    "    print(\"you have not entered the correct instruction\")"
   ]
  },
  {
   "cell_type": "markdown",
   "id": "cc3e8f54-4765-433c-b138-5d07ecb9cf32",
   "metadata": {},
   "source": [
    "# statement\n",
    "- while"
   ]
  },
  {
   "cell_type": "code",
   "execution_count": 12,
   "id": "75131f9f-b351-4615-bda0-38a5537deaea",
   "metadata": {},
   "outputs": [
    {
     "name": "stdin",
     "output_type": "stream",
     "text": [
      "enter only 'add' or 'subtract' or 'exit' :  erty\n"
     ]
    },
    {
     "name": "stdout",
     "output_type": "stream",
     "text": [
      "The option you entered isn't correct\n"
     ]
    },
    {
     "name": "stdin",
     "output_type": "stream",
     "text": [
      "enter only 'add' or 'subtract' or 'exit' :  erhg\n"
     ]
    },
    {
     "name": "stdout",
     "output_type": "stream",
     "text": [
      "The option you entered isn't correct\n"
     ]
    },
    {
     "name": "stdin",
     "output_type": "stream",
     "text": [
      "enter only 'add' or 'subtract' or 'exit' :  345654\n"
     ]
    },
    {
     "name": "stdout",
     "output_type": "stream",
     "text": [
      "The option you entered isn't correct\n"
     ]
    },
    {
     "name": "stdin",
     "output_type": "stream",
     "text": [
      "enter only 'add' or 'subtract' or 'exit' :  add\n",
      "enter 1st number to be added:  34\n",
      "enter 2nd number to be added:  67\n"
     ]
    },
    {
     "name": "stdout",
     "output_type": "stream",
     "text": [
      "the addition of the 2 numbers =  101.0\n"
     ]
    },
    {
     "name": "stdin",
     "output_type": "stream",
     "text": [
      "enter only 'add' or 'subtract' or 'exit' :  exit\n"
     ]
    }
   ],
   "source": [
    "while True:\n",
    "    var = input(\"enter only 'add' or 'subtract' or 'exit' : \")\n",
    "    class maths:\n",
    "        def add_(c,d):\n",
    "            c + d\n",
    "    #         print(c+d)\n",
    "            return c + d\n",
    "        def sub_(c,d):\n",
    "            c-d\n",
    "            return c-d\n",
    "\n",
    "    if var == 'add':\n",
    "        c = float(input(\"enter 1st number to be added: \"))\n",
    "        d = float(input(\"enter 2nd number to be added: \"))\n",
    "        maths.add_(c,d)\n",
    "        add = maths.add_(c,d)\n",
    "        print('the addition of the 2 numbers = ', add)\n",
    "\n",
    "\n",
    "    elif var == 'subtract':\n",
    "        c = float(input(\"enter 1st number to be subtracted: \"))\n",
    "        d = float(input(\"enter 2nd number to be subtracted: \"))\n",
    "        maths.sub_(c,d)\n",
    "        subtract = maths.sub_(c,d)\n",
    "        print('the subtraction of the 2 numbers = ', subtract )\n",
    "    elif var == 'exit':\n",
    "        break\n",
    "    else:\n",
    "        print(\"The option you entered isn't correct\")"
   ]
  }
 ],
 "metadata": {
  "kernelspec": {
   "display_name": "Python 3",
   "language": "python",
   "name": "python3"
  },
  "language_info": {
   "codemirror_mode": {
    "name": "ipython",
    "version": 3
   },
   "file_extension": ".py",
   "mimetype": "text/x-python",
   "name": "python",
   "nbconvert_exporter": "python",
   "pygments_lexer": "ipython3",
   "version": "3.8.8"
  }
 },
 "nbformat": 4,
 "nbformat_minor": 5
}
