{
 "cells": [
  {
   "cell_type": "code",
   "execution_count": 2,
   "id": "ec9aef1d-f227-4bd6-9dd1-ac164827b2dc",
   "metadata": {},
   "outputs": [
    {
     "data": {
      "text/plain": [
       "[2, 2.4, 3.6, 0.3, 2]"
      ]
     },
     "execution_count": 2,
     "metadata": {},
     "output_type": "execute_result"
    }
   ],
   "source": [
    "a = [2,2.4,3.6,0.3]\n",
    "b = [2]\n",
    "a+b"
   ]
  },
  {
   "cell_type": "code",
   "execution_count": 5,
   "id": "7088e3aa-dc67-4e87-818f-2f24fec9a5fe",
   "metadata": {},
   "outputs": [],
   "source": [
    "c = 5\n",
    "d = 7\n"
   ]
  },
  {
   "cell_type": "code",
   "execution_count": 7,
   "id": "53f2e1ce-5ef3-4b68-a01c-583991361aea",
   "metadata": {},
   "outputs": [
    {
     "data": {
      "text/plain": [
       "78125"
      ]
     },
     "execution_count": 7,
     "metadata": {},
     "output_type": "execute_result"
    }
   ],
   "source": [
    "c**d # raise to power"
   ]
  },
  {
   "cell_type": "code",
   "execution_count": 8,
   "id": "6f047d38-8a45-4b61-b8d3-dee094147301",
   "metadata": {},
   "outputs": [
    {
     "name": "stdout",
     "output_type": "stream",
     "text": [
      "the square c is:  25\n",
      "the square d is:  49\n"
     ]
    }
   ],
   "source": [
    "print('the square c is: ',c**2)\n",
    "print('the square d is: ',d**2)"
   ]
  },
  {
   "cell_type": "code",
   "execution_count": 10,
   "id": "b1264e1c-e338-4d45-bf2f-0ae0f3ca548d",
   "metadata": {},
   "outputs": [
    {
     "data": {
      "text/plain": [
       "35"
      ]
     },
     "execution_count": 10,
     "metadata": {},
     "output_type": "execute_result"
    }
   ],
   "source": [
    "c*d"
   ]
  },
  {
   "cell_type": "code",
   "execution_count": 13,
   "id": "5b24d85e-8e28-4695-a135-8d91d3a7c6ab",
   "metadata": {},
   "outputs": [
    {
     "data": {
      "text/plain": [
       "1.4"
      ]
     },
     "execution_count": 13,
     "metadata": {},
     "output_type": "execute_result"
    }
   ],
   "source": [
    "e = d/c\n",
    "e"
   ]
  }
 ],
 "metadata": {
  "kernelspec": {
   "display_name": "Python 3",
   "language": "python",
   "name": "python3"
  },
  "language_info": {
   "codemirror_mode": {
    "name": "ipython",
    "version": 3
   },
   "file_extension": ".py",
   "mimetype": "text/x-python",
   "name": "python",
   "nbconvert_exporter": "python",
   "pygments_lexer": "ipython3",
   "version": "3.8.8"
  }
 },
 "nbformat": 4,
 "nbformat_minor": 5
}
