{
 "cells": [
  {
   "cell_type": "code",
   "execution_count": 1,
   "id": "a4e2a36f-755f-426e-bec4-6952a03e973f",
   "metadata": {},
   "outputs": [
    {
     "name": "stdin",
     "output_type": "stream",
     "text": [
      "Enter anything you want to type :  rrtt\n"
     ]
    },
    {
     "name": "stdout",
     "output_type": "stream",
     "text": [
      "hello  rrtt\n"
     ]
    }
   ],
   "source": [
    "a = input(\"Enter anything you want to type : \")\n",
    "# print(\"hello {}\".format(a))\n",
    "print('hello ',a)"
   ]
  },
  {
   "cell_type": "code",
   "execution_count": 2,
   "id": "d585eb19-7ae0-43fe-8ace-b7d9ecd6641f",
   "metadata": {},
   "outputs": [
    {
     "name": "stdout",
     "output_type": "stream",
     "text": [
      "['rrtt']\n"
     ]
    }
   ],
   "source": [
    "b = []\n",
    "b.append(a)\n",
    "print(b)"
   ]
  },
  {
   "cell_type": "code",
   "execution_count": 8,
   "id": "3210e767-aa35-4f2f-8b90-172215b78bbe",
   "metadata": {},
   "outputs": [
    {
     "name": "stdin",
     "output_type": "stream",
     "text": [
      "enter only numbers here:  70\n",
      "enter only numbers here:  10\n"
     ]
    },
    {
     "name": "stdout",
     "output_type": "stream",
     "text": [
      "80.0\n",
      "the addition of the 2 numbers =  None\n",
      "the subtraction of the 2 numbers =  60.0\n"
     ]
    }
   ],
   "source": [
    "c = float(input(\"enter only numbers here: \"))\n",
    "d = float(input(\"enter only numbers here: \"))\n",
    "\n",
    "class maths:\n",
    "    def add_(c,d):\n",
    "        c + d\n",
    "        print(c+d)\n",
    "    def sub_(c,d):\n",
    "        c-d\n",
    "        return c-d\n",
    "\n",
    "add = maths.add_(c,d)\n",
    "subtract = maths.sub_(c,d)\n",
    "print('the addition of the 2 numbers = ', add)\n",
    "print('the subtraction of the 2 numbers = ', subtract )"
   ]
  }
 ],
 "metadata": {
  "kernelspec": {
   "display_name": "Python 3",
   "language": "python",
   "name": "python3"
  },
  "language_info": {
   "codemirror_mode": {
    "name": "ipython",
    "version": 3
   },
   "file_extension": ".py",
   "mimetype": "text/x-python",
   "name": "python",
   "nbconvert_exporter": "python",
   "pygments_lexer": "ipython3",
   "version": "3.8.8"
  }
 },
 "nbformat": 4,
 "nbformat_minor": 5
}
